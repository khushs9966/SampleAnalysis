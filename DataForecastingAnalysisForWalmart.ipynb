{
 "cells": [
  {
   "cell_type": "code",
   "execution_count": 1,
   "id": "94abb965",
   "metadata": {
    "_cell_guid": "b1076dfc-b9ad-4769-8c92-a6c4dae69d19",
    "_uuid": "8f2839f25d086af736a60e9eeb907d3b93b6e0e5",
    "execution": {
     "iopub.execute_input": "2023-05-18T18:48:55.343919Z",
     "iopub.status.busy": "2023-05-18T18:48:55.343415Z",
     "iopub.status.idle": "2023-05-18T18:48:56.610336Z",
     "shell.execute_reply": "2023-05-18T18:48:56.608982Z"
    },
    "papermill": {
     "duration": 1.277194,
     "end_time": "2023-05-18T18:48:56.612738",
     "exception": false,
     "start_time": "2023-05-18T18:48:55.335544",
     "status": "completed"
    },
    "tags": []
   },
   "outputs": [
    {
     "name": "stderr",
     "output_type": "stream",
     "text": [
      "/opt/conda/lib/python3.10/site-packages/scipy/__init__.py:146: UserWarning: A NumPy version >=1.16.5 and <1.23.0 is required for this version of SciPy (detected version 1.23.5\n",
      "  warnings.warn(f\"A NumPy version >={np_minversion} and <{np_maxversion}\"\n"
     ]
    },
    {
     "name": "stdout",
     "output_type": "stream",
     "text": [
      "/kaggle/input/walmart-data-analysis-and-forcasting/Walmart Data Analysis and Forcasting.csv\n"
     ]
    }
   ],
   "source": [
    "# This Python 3 environment comes with many helpful analytics libraries installed\n",
    "# It is defined by the kaggle/python Docker image: https://github.com/kaggle/docker-python\n",
    "# For example, here's several helpful packages to load\n",
    "\n",
    "import numpy as np # linear algebra\n",
    "import pandas as pd # data processing, CSV file I/O (e.g. pd.read_csv)\n",
    "import matplotlib.pyplot as plt\n",
    "import seaborn as sns\n",
    "from scipy import stats\n",
    "\n",
    "\n",
    "# Input data files are available in the read-only \"../input/\" directory\n",
    "# For example, running this (by clicking run or pressing Shift+Enter) will list all files under the input directory\n",
    "\n",
    "import os\n",
    "for dirname, _, filenames in os.walk('/kaggle/input'):\n",
    "    for filename in filenames:\n",
    "        print(os.path.join(dirname, filename))\n",
    "\n",
    "# You can write up to 20GB to the current directory (/kaggle/working/) that gets preserved as output when you create a version using \"Save & Run All\" \n",
    "# You can also write temporary files to /kaggle/temp/, but they won't be saved outside of the current session"
   ]
  },
  {
   "cell_type": "code",
   "execution_count": 2,
   "id": "bfdd47a4",
   "metadata": {
    "execution": {
     "iopub.execute_input": "2023-05-18T18:48:56.625901Z",
     "iopub.status.busy": "2023-05-18T18:48:56.625517Z",
     "iopub.status.idle": "2023-05-18T18:48:56.684857Z",
     "shell.execute_reply": "2023-05-18T18:48:56.684117Z"
    },
    "papermill": {
     "duration": 0.068175,
     "end_time": "2023-05-18T18:48:56.686811",
     "exception": false,
     "start_time": "2023-05-18T18:48:56.618636",
     "status": "completed"
    },
    "tags": []
   },
   "outputs": [
    {
     "data": {
      "text/html": [
       "<div>\n",
       "<style scoped>\n",
       "    .dataframe tbody tr th:only-of-type {\n",
       "        vertical-align: middle;\n",
       "    }\n",
       "\n",
       "    .dataframe tbody tr th {\n",
       "        vertical-align: top;\n",
       "    }\n",
       "\n",
       "    .dataframe thead th {\n",
       "        text-align: right;\n",
       "    }\n",
       "</style>\n",
       "<table border=\"1\" class=\"dataframe\">\n",
       "  <thead>\n",
       "    <tr style=\"text-align: right;\">\n",
       "      <th></th>\n",
       "      <th>Store</th>\n",
       "      <th>Date</th>\n",
       "      <th>Weekly_Sales</th>\n",
       "      <th>Holiday_Flag</th>\n",
       "      <th>Temperature</th>\n",
       "      <th>Fuel_Price</th>\n",
       "      <th>CPI</th>\n",
       "      <th>Unemployment</th>\n",
       "    </tr>\n",
       "  </thead>\n",
       "  <tbody>\n",
       "    <tr>\n",
       "      <th>0</th>\n",
       "      <td>1</td>\n",
       "      <td>05-02-2010</td>\n",
       "      <td>1643690.90</td>\n",
       "      <td>0</td>\n",
       "      <td>42.31</td>\n",
       "      <td>2.572</td>\n",
       "      <td>211.096358</td>\n",
       "      <td>8.106</td>\n",
       "    </tr>\n",
       "    <tr>\n",
       "      <th>1</th>\n",
       "      <td>1</td>\n",
       "      <td>12-02-2010</td>\n",
       "      <td>1641957.44</td>\n",
       "      <td>1</td>\n",
       "      <td>38.51</td>\n",
       "      <td>2.548</td>\n",
       "      <td>211.242170</td>\n",
       "      <td>8.106</td>\n",
       "    </tr>\n",
       "    <tr>\n",
       "      <th>2</th>\n",
       "      <td>1</td>\n",
       "      <td>19-02-2010</td>\n",
       "      <td>1611968.17</td>\n",
       "      <td>0</td>\n",
       "      <td>39.93</td>\n",
       "      <td>2.514</td>\n",
       "      <td>211.289143</td>\n",
       "      <td>8.106</td>\n",
       "    </tr>\n",
       "    <tr>\n",
       "      <th>3</th>\n",
       "      <td>1</td>\n",
       "      <td>26-02-2010</td>\n",
       "      <td>1409727.59</td>\n",
       "      <td>0</td>\n",
       "      <td>46.63</td>\n",
       "      <td>2.561</td>\n",
       "      <td>211.319643</td>\n",
       "      <td>8.106</td>\n",
       "    </tr>\n",
       "    <tr>\n",
       "      <th>4</th>\n",
       "      <td>1</td>\n",
       "      <td>05-03-2010</td>\n",
       "      <td>1554806.68</td>\n",
       "      <td>0</td>\n",
       "      <td>46.50</td>\n",
       "      <td>2.625</td>\n",
       "      <td>211.350143</td>\n",
       "      <td>8.106</td>\n",
       "    </tr>\n",
       "  </tbody>\n",
       "</table>\n",
       "</div>"
      ],
      "text/plain": [
       "   Store        Date  Weekly_Sales  Holiday_Flag  Temperature  Fuel_Price  \\\n",
       "0      1  05-02-2010    1643690.90             0        42.31       2.572   \n",
       "1      1  12-02-2010    1641957.44             1        38.51       2.548   \n",
       "2      1  19-02-2010    1611968.17             0        39.93       2.514   \n",
       "3      1  26-02-2010    1409727.59             0        46.63       2.561   \n",
       "4      1  05-03-2010    1554806.68             0        46.50       2.625   \n",
       "\n",
       "          CPI  Unemployment  \n",
       "0  211.096358         8.106  \n",
       "1  211.242170         8.106  \n",
       "2  211.289143         8.106  \n",
       "3  211.319643         8.106  \n",
       "4  211.350143         8.106  "
      ]
     },
     "execution_count": 2,
     "metadata": {},
     "output_type": "execute_result"
    }
   ],
   "source": [
    "df1=pd.read_csv('/kaggle/input/walmart-data-analysis-and-forcasting/Walmart Data Analysis and Forcasting.csv')\n",
    "df1.head()\n",
    "\n",
    "#df1.Weekly_Sales.astype(float)"
   ]
  },
  {
   "cell_type": "markdown",
   "id": "93deadb8",
   "metadata": {
    "papermill": {
     "duration": 0.005501,
     "end_time": "2023-05-18T18:48:56.698201",
     "exception": false,
     "start_time": "2023-05-18T18:48:56.692700",
     "status": "completed"
    },
    "tags": []
   },
   "source": [
    "# QUESTION TO SOLVE?\n",
    "1. Did all stores have high sales during a holiday? If there were then more resource allocation may be needed.\n",
    "2. Is there a correlation between temperature for the day and sales?\n",
    "2. How to forecast upcoming sales based on sales?\n",
    "4. Calculate average and use t tests?(Avg sales on weekly)\n",
    "5. Can also regression to understand the influence of the variables on sales?\n",
    "6. High performing stores vs low performing stores?"
   ]
  },
  {
   "cell_type": "markdown",
   "id": "11439e84",
   "metadata": {
    "papermill": {
     "duration": 0.00544,
     "end_time": "2023-05-18T18:48:56.709453",
     "exception": false,
     "start_time": "2023-05-18T18:48:56.704013",
     "status": "completed"
    },
    "tags": []
   },
   "source": [
    "# **DATA PREPROCESSING**"
   ]
  },
  {
   "cell_type": "code",
   "execution_count": 3,
   "id": "c8bb6fd0",
   "metadata": {
    "execution": {
     "iopub.execute_input": "2023-05-18T18:48:56.722862Z",
     "iopub.status.busy": "2023-05-18T18:48:56.722039Z",
     "iopub.status.idle": "2023-05-18T18:48:56.809773Z",
     "shell.execute_reply": "2023-05-18T18:48:56.809019Z"
    },
    "papermill": {
     "duration": 0.096668,
     "end_time": "2023-05-18T18:48:56.811831",
     "exception": false,
     "start_time": "2023-05-18T18:48:56.715163",
     "status": "completed"
    },
    "tags": []
   },
   "outputs": [
    {
     "name": "stderr",
     "output_type": "stream",
     "text": [
      "/tmp/ipykernel_20/522507817.py:2: UserWarning: Parsing dates in DD/MM/YYYY format when dayfirst=False (the default) was specified. This may lead to inconsistently parsed dates! Specify a format to ensure consistent parsing.\n",
      "  df1['Year'] = pd.DatetimeIndex(df1['Date']).year\n"
     ]
    }
   ],
   "source": [
    "#Get the year from the Date\n",
    "df1['Year'] = pd.DatetimeIndex(df1['Date']).year"
   ]
  },
  {
   "cell_type": "markdown",
   "id": "69716fe8",
   "metadata": {
    "papermill": {
     "duration": 0.005626,
     "end_time": "2023-05-18T18:48:56.823509",
     "exception": false,
     "start_time": "2023-05-18T18:48:56.817883",
     "status": "completed"
    },
    "tags": []
   },
   "source": [
    "# 1. Which stores are high and low performing stores?"
   ]
  },
  {
   "cell_type": "code",
   "execution_count": 4,
   "id": "3cb91333",
   "metadata": {
    "execution": {
     "iopub.execute_input": "2023-05-18T18:48:56.836905Z",
     "iopub.status.busy": "2023-05-18T18:48:56.836497Z",
     "iopub.status.idle": "2023-05-18T18:48:58.027508Z",
     "shell.execute_reply": "2023-05-18T18:48:58.026443Z"
    },
    "papermill": {
     "duration": 1.200338,
     "end_time": "2023-05-18T18:48:58.029814",
     "exception": false,
     "start_time": "2023-05-18T18:48:56.829476",
     "status": "completed"
    },
    "tags": []
   },
   "outputs": [
    {
     "data": {
      "image/png": "[encoded data removed]",
      "text/plain": [
       "<Figure size 1800x600 with 1 Axes>"
      ]
     },
     "metadata": {},
     "output_type": "display_data"
    }
   ],
   "source": [
    "#Plotting the data to understand the distribution of sales by year\n",
    "plt.figure(figsize = (18,6))\n",
    "#ticks = [10000000, 40000000, 60000000, 80000000, 100000000 ]\n",
    "ax = sns.barplot(x = df1.Store, y = df1.Weekly_Sales, hue = df1.Year, errorbar=None)\n",
    "ax.set_yscale(\"log\")\n"
   ]
  },
  {
   "cell_type": "markdown",
   "id": "776f1be4",
   "metadata": {
    "papermill": {
     "duration": 0.00645,
     "end_time": "2023-05-18T18:48:58.042857",
     "exception": false,
     "start_time": "2023-05-18T18:48:58.036407",
     "status": "completed"
    },
    "tags": []
   },
   "source": [
    "**Low Sales:** From the above chart it is clear that 'store 33' is the lowest performing stores for all three years. The store has lowest sales for all the three years. This store can act as an clearance store. \n",
    "\n",
    "**High Sales:** Store 20 is the only store that has maintained its sales for the all the three years. \n",
    "\n",
    "Let's verify this data"
   ]
  },
  {
   "cell_type": "code",
   "execution_count": 5,
   "id": "80e5b033",
   "metadata": {
    "execution": {
     "iopub.execute_input": "2023-05-18T18:48:58.058109Z",
     "iopub.status.busy": "2023-05-18T18:48:58.057099Z",
     "iopub.status.idle": "2023-05-18T18:48:58.069799Z",
     "shell.execute_reply": "2023-05-18T18:48:58.068856Z"
    },
    "papermill": {
     "duration": 0.022425,
     "end_time": "2023-05-18T18:48:58.071844",
     "exception": false,
     "start_time": "2023-05-18T18:48:58.049419",
     "status": "completed"
    },
    "tags": []
   },
   "outputs": [
    {
     "name": "stdout",
     "output_type": "stream",
     "text": [
      "Store with the highest weekly sales for 2010: 14\n",
      "Store with the lowest weekly sales for 2010: 33\n"
     ]
    }
   ],
   "source": [
    "group2010 = df1[df1['Year'] == 2010]\n",
    "max_weekly_sales2010 = group2010.groupby('Store')['Weekly_Sales'].sum().idxmax()\n",
    "min_weekly_sales2010 = group2010.groupby('Store')['Weekly_Sales'].sum().idxmin()\n",
    "print(\"Store with the highest weekly sales for 2010:\", max_weekly_sales2010)\n",
    "print(\"Store with the lowest weekly sales for 2010:\", min_weekly_sales2010)\n"
   ]
  },
  {
   "cell_type": "code",
   "execution_count": 6,
   "id": "5fb5486d",
   "metadata": {
    "execution": {
     "iopub.execute_input": "2023-05-18T18:48:58.087409Z",
     "iopub.status.busy": "2023-05-18T18:48:58.086716Z",
     "iopub.status.idle": "2023-05-18T18:48:58.095815Z",
     "shell.execute_reply": "2023-05-18T18:48:58.094867Z"
    },
    "papermill": {
     "duration": 0.019351,
     "end_time": "2023-05-18T18:48:58.098111",
     "exception": false,
     "start_time": "2023-05-18T18:48:58.078760",
     "status": "completed"
    },
    "tags": []
   },
   "outputs": [
    {
     "name": "stdout",
     "output_type": "stream",
     "text": [
      "Store with the highest weekly sales for 2010: 4\n",
      "Store with the lowest weekly sales for 2010: 33\n"
     ]
    }
   ],
   "source": [
    "group2011 = df1[df1['Year'] == 2011]\n",
    "max_weekly_sales2011 = group2011.groupby('Store')['Weekly_Sales'].sum().idxmax()\n",
    "min_weekly_sales2011 = group2011.groupby('Store')['Weekly_Sales'].sum().idxmin()\n",
    "print(\"Store with the highest weekly sales for 2010:\", max_weekly_sales2011)\n",
    "print(\"Store with the lowest weekly sales for 2010:\", min_weekly_sales2011)"
   ]
  },
  {
   "cell_type": "code",
   "execution_count": 7,
   "id": "c04a8d75",
   "metadata": {
    "execution": {
     "iopub.execute_input": "2023-05-18T18:48:58.113651Z",
     "iopub.status.busy": "2023-05-18T18:48:58.112653Z",
     "iopub.status.idle": "2023-05-18T18:48:58.121667Z",
     "shell.execute_reply": "2023-05-18T18:48:58.120642Z"
    },
    "papermill": {
     "duration": 0.018953,
     "end_time": "2023-05-18T18:48:58.123701",
     "exception": false,
     "start_time": "2023-05-18T18:48:58.104748",
     "status": "completed"
    },
    "tags": []
   },
   "outputs": [
    {
     "name": "stdout",
     "output_type": "stream",
     "text": [
      "Store with the highest weekly sales for 2010: 4\n",
      "Store with the lowest weekly sales for 2010: 33\n"
     ]
    }
   ],
   "source": [
    "group2012 = df1[df1['Year'] == 2012]\n",
    "max_weekly_sales2012 = group2012.groupby('Store')['Weekly_Sales'].sum().idxmax()\n",
    "min_weekly_sales2012 = group2012.groupby('Store')['Weekly_Sales'].sum().idxmin()\n",
    "print(\"Store with the highest weekly sales for 2010:\", max_weekly_sales2012)\n",
    "print(\"Store with the lowest weekly sales for 2010:\", min_weekly_sales2012)"
   ]
  },
  {
   "cell_type": "markdown",
   "id": "cdaaf599",
   "metadata": {
    "papermill": {
     "duration": 0.006715,
     "end_time": "2023-05-18T18:48:58.137346",
     "exception": false,
     "start_time": "2023-05-18T18:48:58.130631",
     "status": "completed"
    },
    "tags": []
   },
   "source": [
    "# Is there a difference in total sales of the stores during an holiday and a non-holiday week?"
   ]
  },
  {
   "cell_type": "code",
   "execution_count": 8,
   "id": "77980153",
   "metadata": {
    "execution": {
     "iopub.execute_input": "2023-05-18T18:48:58.152603Z",
     "iopub.status.busy": "2023-05-18T18:48:58.152192Z",
     "iopub.status.idle": "2023-05-18T18:48:58.169357Z",
     "shell.execute_reply": "2023-05-18T18:48:58.168075Z"
    },
    "papermill": {
     "duration": 0.027312,
     "end_time": "2023-05-18T18:48:58.171331",
     "exception": false,
     "start_time": "2023-05-18T18:48:58.144019",
     "status": "completed"
    },
    "tags": []
   },
   "outputs": [
    {
     "name": "stdout",
     "output_type": "stream",
     "text": [
      "Total 2010 sales during holiday weeks: 200224597.71\n",
      "Total 2010 sales during non-holiday weeks: 2088661522.7\n",
      "Total 2011 sales during holiday weeks: 206735486.62\n",
      "Total 2011 sales during non-holiday weeks: 2241464520.73\n",
      "Total 2012 sales during holiday weeks: 98339467.23\n",
      "Total 2012 sales during non-holiday weeks: 1901793392.12\n"
     ]
    }
   ],
   "source": [
    "#Total yearly sales during holidays\n",
    "isholiday2010 = df1.loc[(df1.Holiday_Flag == 1) & (df1.Year == 2010)]['Weekly_Sales'].sum().round(2)\n",
    "isholiday2011 = df1.loc[(df1.Holiday_Flag == 1) & (df1.Year == 2011)]['Weekly_Sales'].sum()\n",
    "isholiday2012 = df1.loc[(df1.Holiday_Flag == 1) & (df1.Year == 2012)]['Weekly_Sales'].sum()\n",
    "#Total yearly sales during holidays\n",
    "notholiday2010 = df1.loc[(df1.Holiday_Flag == 0) & (df1.Year == 2010)]['Weekly_Sales'].sum().round(2)\n",
    "notholiday2011 = df1.loc[(df1.Holiday_Flag == 0) & (df1.Year == 2011)]['Weekly_Sales'].sum()\n",
    "notholiday2012 = df1.loc[(df1.Holiday_Flag == 0) & (df1.Year == 2012)]['Weekly_Sales'].sum()\n",
    "print(\"Total 2010 sales during holiday weeks:\",   isholiday2010)\n",
    "print(\"Total 2010 sales during non-holiday weeks:\",notholiday2010)\n",
    "\n",
    "print(\"Total 2011 sales during holiday weeks:\",    isholiday2011)\n",
    "print(\"Total 2011 sales during non-holiday weeks:\",notholiday2011)\n",
    "\n",
    "print(\"Total 2012 sales during holiday weeks:\",    isholiday2012)\n",
    "print(\"Total 2012 sales during non-holiday weeks:\",notholiday2012)\n"
   ]
  },
  {
   "cell_type": "code",
   "execution_count": 9,
   "id": "d86fe6b0",
   "metadata": {
    "execution": {
     "iopub.execute_input": "2023-05-18T18:48:58.187036Z",
     "iopub.status.busy": "2023-05-18T18:48:58.186136Z",
     "iopub.status.idle": "2023-05-18T18:48:58.473101Z",
     "shell.execute_reply": "2023-05-18T18:48:58.472071Z"
    },
    "papermill": {
     "duration": 0.297246,
     "end_time": "2023-05-18T18:48:58.475371",
     "exception": false,
     "start_time": "2023-05-18T18:48:58.178125",
     "status": "completed"
    },
    "tags": []
   },
   "outputs": [
    {
     "data": {
      "image/png": "[encoded data removed]",
      "text/plain": [
       "<Figure size 1800x600 with 1 Axes>"
      ]
     },
     "metadata": {},
     "output_type": "display_data"
    }
   ],
   "source": [
    "#Plot the data by year to understand\n",
    "plt.figure(figsize = (18,6))\n",
    "ax = sns.barplot(x = df1.Holiday_Flag, y = df1.Weekly_Sales,hue = df1.Year, errorbar=None)"
   ]
  },
  {
   "cell_type": "markdown",
   "id": "3800c71b",
   "metadata": {
    "papermill": {
     "duration": 0.006999,
     "end_time": "2023-05-18T18:48:58.489747",
     "exception": false,
     "start_time": "2023-05-18T18:48:58.482748",
     "status": "completed"
    },
    "tags": []
   },
   "source": [
    "From the above figure, It is clear that the sales were high during holidays when compared to non-holiday days. Let's check if the results from the above are statistically significant. \n"
   ]
  },
  {
   "cell_type": "code",
   "execution_count": 10,
   "id": "8d0c93fe",
   "metadata": {
    "execution": {
     "iopub.execute_input": "2023-05-18T18:48:58.505136Z",
     "iopub.status.busy": "2023-05-18T18:48:58.504751Z",
     "iopub.status.idle": "2023-05-18T18:48:58.509043Z",
     "shell.execute_reply": "2023-05-18T18:48:58.508097Z"
    },
    "papermill": {
     "duration": 0.014243,
     "end_time": "2023-05-18T18:48:58.510982",
     "exception": false,
     "start_time": "2023-05-18T18:48:58.496739",
     "status": "completed"
    },
    "tags": []
   },
   "outputs": [],
   "source": [
    "#Assumptions of T-test\n",
    "# 1. The independent variable is categorical with atleast group - Our Holiday_Flag has two groups.\n",
    "# 2. Dependent variable is continuous - Weekly_Sales is continuous.\n",
    "# 3. The distribution should follow a normal distribution\n",
    "# 4. The variances between the two groups are equal. "
   ]
  },
  {
   "cell_type": "code",
   "execution_count": 11,
   "id": "1f48fb6f",
   "metadata": {
    "execution": {
     "iopub.execute_input": "2023-05-18T18:48:58.526258Z",
     "iopub.status.busy": "2023-05-18T18:48:58.525904Z",
     "iopub.status.idle": "2023-05-18T18:48:58.557463Z",
     "shell.execute_reply": "2023-05-18T18:48:58.556775Z"
    },
    "papermill": {
     "duration": 0.041302,
     "end_time": "2023-05-18T18:48:58.559356",
     "exception": false,
     "start_time": "2023-05-18T18:48:58.518054",
     "status": "completed"
    },
    "tags": []
   },
   "outputs": [
    {
     "data": {
      "text/html": [
       "<div>\n",
       "<style scoped>\n",
       "    .dataframe tbody tr th:only-of-type {\n",
       "        vertical-align: middle;\n",
       "    }\n",
       "\n",
       "    .dataframe tbody tr th {\n",
       "        vertical-align: top;\n",
       "    }\n",
       "\n",
       "    .dataframe thead th {\n",
       "        text-align: right;\n",
       "    }\n",
       "</style>\n",
       "<table border=\"1\" class=\"dataframe\">\n",
       "  <thead>\n",
       "    <tr style=\"text-align: right;\">\n",
       "      <th></th>\n",
       "      <th>count</th>\n",
       "      <th>mean</th>\n",
       "      <th>std</th>\n",
       "      <th>min</th>\n",
       "      <th>25%</th>\n",
       "      <th>50%</th>\n",
       "      <th>75%</th>\n",
       "      <th>max</th>\n",
       "    </tr>\n",
       "    <tr>\n",
       "      <th>Holiday_Flag</th>\n",
       "      <th></th>\n",
       "      <th></th>\n",
       "      <th></th>\n",
       "      <th></th>\n",
       "      <th></th>\n",
       "      <th></th>\n",
       "      <th></th>\n",
       "      <th></th>\n",
       "    </tr>\n",
       "  </thead>\n",
       "  <tbody>\n",
       "    <tr>\n",
       "      <th>0</th>\n",
       "      <td>5985.0</td>\n",
       "      <td>1.041256e+06</td>\n",
       "      <td>558957.436147</td>\n",
       "      <td>209986.25</td>\n",
       "      <td>551378.3900</td>\n",
       "      <td>956211.20</td>\n",
       "      <td>1414343.530</td>\n",
       "      <td>3818686.45</td>\n",
       "    </tr>\n",
       "    <tr>\n",
       "      <th>1</th>\n",
       "      <td>450.0</td>\n",
       "      <td>1.122888e+06</td>\n",
       "      <td>627684.931884</td>\n",
       "      <td>215359.21</td>\n",
       "      <td>575865.4825</td>\n",
       "      <td>1018538.04</td>\n",
       "      <td>1555213.175</td>\n",
       "      <td>3004702.33</td>\n",
       "    </tr>\n",
       "  </tbody>\n",
       "</table>\n",
       "</div>"
      ],
      "text/plain": [
       "               count          mean            std        min          25%  \\\n",
       "Holiday_Flag                                                                \n",
       "0             5985.0  1.041256e+06  558957.436147  209986.25  551378.3900   \n",
       "1              450.0  1.122888e+06  627684.931884  215359.21  575865.4825   \n",
       "\n",
       "                     50%          75%         max  \n",
       "Holiday_Flag                                       \n",
       "0              956211.20  1414343.530  3818686.45  \n",
       "1             1018538.04  1555213.175  3004702.33  "
      ]
     },
     "execution_count": 11,
     "metadata": {},
     "output_type": "execute_result"
    }
   ],
   "source": [
    "df1.groupby(\"Holiday_Flag\")['Weekly_Sales'].describe()"
   ]
  },
  {
   "cell_type": "markdown",
   "id": "005531e8",
   "metadata": {
    "papermill": {
     "duration": 0.006977,
     "end_time": "2023-05-18T18:48:58.573707",
     "exception": false,
     "start_time": "2023-05-18T18:48:58.566730",
     "status": "completed"
    },
    "tags": []
   },
   "source": [
    "T test to understand if the difference in means is significant:\n",
    "\n",
    "Levene’s test is an equal variance test. It can be used to check if our data sets fulfill the homogeneity of variance assumption before we perform the t-test\n",
    "\n",
    "* H0: The null hypothesis formed in the Levene’s test is that the groups(Holiday sales vs non-holiday sales) we are comparing have equal variance.\n",
    "* H1: The groups do not have equal variances."
   ]
  },
  {
   "cell_type": "code",
   "execution_count": 12,
   "id": "03dffc2b",
   "metadata": {
    "execution": {
     "iopub.execute_input": "2023-05-18T18:48:58.589788Z",
     "iopub.status.busy": "2023-05-18T18:48:58.589188Z",
     "iopub.status.idle": "2023-05-18T18:48:58.599787Z",
     "shell.execute_reply": "2023-05-18T18:48:58.598852Z"
    },
    "papermill": {
     "duration": 0.021014,
     "end_time": "2023-05-18T18:48:58.601840",
     "exception": false,
     "start_time": "2023-05-18T18:48:58.580826",
     "status": "completed"
    },
    "tags": []
   },
   "outputs": [
    {
     "data": {
      "text/plain": [
       "LeveneResult(statistic=10.519203649624915, pvalue=0.0011874337918717478)"
      ]
     },
     "execution_count": 12,
     "metadata": {},
     "output_type": "execute_result"
    }
   ],
   "source": [
    "isholiday = df1[(df1.Holiday_Flag == 1)]['Weekly_Sales']\n",
    "notholiday = df1[(df1.Holiday_Flag == 0)]['Weekly_Sales']\n",
    "\n",
    "\n",
    "stats.levene(isholiday, notholiday)\n",
    "\n",
    "#p values is less than 0.05, then there is a significant difference between the variances of weekly sales during holidays and non-holidays. \n",
    "#They have unequal variances. \n",
    "#the Student’s t-test is no longer robust when the data sets have unequal variances especially when they also have unequal sample sizes. \n",
    "#This is because the unequal variances can influence the Type 1 error rate by either increasing or decreasing the Type 1 error rate from α or the threshold level."
   ]
  },
  {
   "cell_type": "code",
   "execution_count": 13,
   "id": "297476d3",
   "metadata": {
    "execution": {
     "iopub.execute_input": "2023-05-18T18:48:58.618613Z",
     "iopub.status.busy": "2023-05-18T18:48:58.617899Z",
     "iopub.status.idle": "2023-05-18T18:48:58.622811Z",
     "shell.execute_reply": "2023-05-18T18:48:58.621744Z"
    },
    "papermill": {
     "duration": 0.015241,
     "end_time": "2023-05-18T18:48:58.624702",
     "exception": false,
     "start_time": "2023-05-18T18:48:58.609461",
     "status": "completed"
    },
    "tags": []
   },
   "outputs": [],
   "source": [
    "#Assumption 2:\n",
    "#Plot the data to check if the data follows a normal distribution\n",
    "#isholiday.plot(kind=\"hist\",title = \"Holiday Sales\")\n",
    "#notholiday.plot(kind=\"hist\",title = \"NotHoliday Sales\")"
   ]
  },
  {
   "cell_type": "code",
   "execution_count": 14,
   "id": "520d8e5a",
   "metadata": {
    "execution": {
     "iopub.execute_input": "2023-05-18T18:48:58.641192Z",
     "iopub.status.busy": "2023-05-18T18:48:58.640311Z",
     "iopub.status.idle": "2023-05-18T18:48:58.914174Z",
     "shell.execute_reply": "2023-05-18T18:48:58.913088Z"
    },
    "papermill": {
     "duration": 0.284449,
     "end_time": "2023-05-18T18:48:58.916505",
     "exception": false,
     "start_time": "2023-05-18T18:48:58.632056",
     "status": "completed"
    },
    "tags": []
   },
   "outputs": [
    {
     "data": {
      "text/plain": [
       "((array([-2.95981055e+00, -2.67505418e+00, -2.51472401e+00, -2.40093139e+00,\n",
       "         -2.31169958e+00, -2.23778488e+00, -2.17438905e+00, -2.11868884e+00,\n",
       "         -2.06887717e+00, -2.02372498e+00, -1.98235699e+00, -1.94412697e+00,\n",
       "         -1.90854367e+00, -1.87522463e+00, -1.84386602e+00, -1.81422228e+00,\n",
       "         -1.78609206e+00, -1.75930807e+00, -1.73372979e+00, -1.70923795e+00,\n",
       "         -1.68573048e+00, -1.66311926e+00, -1.64132770e+00, -1.62028881e+00,\n",
       "         -1.59994361e+00, -1.58023991e+00, -1.56113128e+00, -1.54257627e+00,\n",
       "         -1.52453763e+00, -1.50698187e+00, -1.48987864e+00, -1.47320046e+00,\n",
       "         -1.45692229e+00, -1.44102127e+00, -1.42547647e+00, -1.41026869e+00,\n",
       "         -1.39538025e+00, -1.38079486e+00, -1.36649743e+00, -1.35247400e+00,\n",
       "         -1.33871162e+00, -1.32519822e+00, -1.31192258e+00, -1.29887422e+00,\n",
       "         -1.28604332e+00, -1.27342073e+00, -1.26099784e+00, -1.24876656e+00,\n",
       "         -1.23671930e+00, -1.22484891e+00, -1.21314864e+00, -1.20161213e+00,\n",
       "         -1.19023337e+00, -1.17900666e+00, -1.16792662e+00, -1.15698813e+00,\n",
       "         -1.14618636e+00, -1.13551669e+00, -1.12497475e+00, -1.11455636e+00,\n",
       "         -1.10425758e+00, -1.09407460e+00, -1.08400382e+00, -1.07404180e+00,\n",
       "         -1.06418524e+00, -1.05443101e+00, -1.04477607e+00, -1.03521756e+00,\n",
       "         -1.02575271e+00, -1.01637887e+00, -1.00709350e+00, -9.97894153e-01,\n",
       "         -9.88778492e-01, -9.79744261e-01, -9.70789295e-01, -9.61911509e-01,\n",
       "         -9.53108896e-01, -9.44379523e-01, -9.35721526e-01, -9.27133111e-01,\n",
       "         -9.18612543e-01, -9.10158149e-01, -9.01768316e-01, -8.93441482e-01,\n",
       "         -8.85176140e-01, -8.76970832e-01, -8.68824146e-01, -8.60734720e-01,\n",
       "         -8.52701230e-01, -8.44722398e-01, -8.36796983e-01, -8.28923784e-01,\n",
       "         -8.21101636e-01, -8.13329408e-01, -8.05606003e-01, -7.97930357e-01,\n",
       "         -7.90301437e-01, -7.82718237e-01, -7.75179783e-01, -7.67685125e-01,\n",
       "         -7.60233343e-01, -7.52823538e-01, -7.45454839e-01, -7.38126396e-01,\n",
       "         -7.30837382e-01, -7.23586992e-01, -7.16374441e-01, -7.09198967e-01,\n",
       "         -7.02059822e-01, -6.94956282e-01, -6.87887638e-01, -6.80853199e-01,\n",
       "         -6.73852290e-01, -6.66884254e-01, -6.59948449e-01, -6.53044246e-01,\n",
       "         -6.46171034e-01, -6.39328212e-01, -6.32515197e-01, -6.25731415e-01,\n",
       "         -6.18976309e-01, -6.12249329e-01, -6.05549943e-01, -5.98877624e-01,\n",
       "         -5.92231862e-01, -5.85612155e-01, -5.79018010e-01, -5.72448947e-01,\n",
       "         -5.65904495e-01, -5.59384191e-01, -5.52887583e-01, -5.46414227e-01,\n",
       "         -5.39963687e-01, -5.33535537e-01, -5.27129359e-01, -5.20744740e-01,\n",
       "         -5.14381279e-01, -5.08038580e-01, -5.01716253e-01, -4.95413918e-01,\n",
       "         -4.89131199e-01, -4.82867728e-01, -4.76623144e-01, -4.70397091e-01,\n",
       "         -4.64189219e-01, -4.57999185e-01, -4.51826650e-01, -4.45671282e-01,\n",
       "         -4.39532754e-01, -4.33410744e-01, -4.27304935e-01, -4.21215014e-01,\n",
       "         -4.15140676e-01, -4.09081617e-01, -4.03037539e-01, -3.97008149e-01,\n",
       "         -3.90993157e-01, -3.84992279e-01, -3.79005232e-01, -3.73031740e-01,\n",
       "         -3.67071529e-01, -3.61124330e-01, -3.55189877e-01, -3.49267906e-01,\n",
       "         -3.43358158e-01, -3.37460379e-01, -3.31574314e-01, -3.25699714e-01,\n",
       "         -3.19836334e-01, -3.13983928e-01, -3.08142258e-01, -3.02311083e-01,\n",
       "         -2.96490170e-01, -2.90679286e-01, -2.84878201e-01, -2.79086687e-01,\n",
       "         -2.73304519e-01, -2.67531473e-01, -2.61767331e-01, -2.56011873e-01,\n",
       "         -2.50264883e-01, -2.44526147e-01, -2.38795452e-01, -2.33072589e-01,\n",
       "         -2.27357350e-01, -2.21649527e-01, -2.15948917e-01, -2.10255315e-01,\n",
       "         -2.04568522e-01, -1.98888336e-01, -1.93214560e-01, -1.87546997e-01,\n",
       "         -1.81885453e-01, -1.76229732e-01, -1.70579643e-01, -1.64934994e-01,\n",
       "         -1.59295595e-01, -1.53661258e-01, -1.48031795e-01, -1.42407020e-01,\n",
       "         -1.36786746e-01, -1.31170789e-01, -1.25558967e-01, -1.19951096e-01,\n",
       "         -1.14346995e-01, -1.08746483e-01, -1.03149379e-01, -9.75555053e-02,\n",
       "         -9.19646825e-02, -8.63767327e-02, -8.07914789e-02, -7.52087442e-02,\n",
       "         -6.96283525e-02, -6.40501283e-02, -5.84738965e-02, -5.28994822e-02,\n",
       "         -4.73267113e-02, -4.17554098e-02, -3.61854041e-02, -3.06165208e-02,\n",
       "         -2.50485868e-02, -1.94814293e-02, -1.39148755e-02, -8.34875288e-03,\n",
       "         -2.78288889e-03,  2.78288889e-03,  8.34875288e-03,  1.39148755e-02,\n",
       "          1.94814293e-02,  2.50485868e-02,  3.06165208e-02,  3.61854041e-02,\n",
       "          4.17554098e-02,  4.73267113e-02,  5.28994822e-02,  5.84738965e-02,\n",
       "          6.40501283e-02,  6.96283525e-02,  7.52087442e-02,  8.07914789e-02,\n",
       "          8.63767327e-02,  9.19646825e-02,  9.75555053e-02,  1.03149379e-01,\n",
       "          1.08746483e-01,  1.14346995e-01,  1.19951096e-01,  1.25558967e-01,\n",
       "          1.31170789e-01,  1.36786746e-01,  1.42407020e-01,  1.48031795e-01,\n",
       "          1.53661258e-01,  1.59295595e-01,  1.64934994e-01,  1.70579643e-01,\n",
       "          1.76229732e-01,  1.81885453e-01,  1.87546997e-01,  1.93214560e-01,\n",
       "          1.98888336e-01,  2.04568522e-01,  2.10255315e-01,  2.15948917e-01,\n",
       "          2.21649527e-01,  2.27357350e-01,  2.33072589e-01,  2.38795452e-01,\n",
       "          2.44526147e-01,  2.50264883e-01,  2.56011873e-01,  2.61767331e-01,\n",
       "          2.67531473e-01,  2.73304519e-01,  2.79086687e-01,  2.84878201e-01,\n",
       "          2.90679286e-01,  2.96490170e-01,  3.02311083e-01,  3.08142258e-01,\n",
       "          3.13983928e-01,  3.19836334e-01,  3.25699714e-01,  3.31574314e-01,\n",
       "          3.37460379e-01,  3.43358158e-01,  3.49267906e-01,  3.55189877e-01,\n",
       "          3.61124330e-01,  3.67071529e-01,  3.73031740e-01,  3.79005232e-01,\n",
       "          3.84992279e-01,  3.90993157e-01,  3.97008149e-01,  4.03037539e-01,\n",
       "          4.09081617e-01,  4.15140676e-01,  4.21215014e-01,  4.27304935e-01,\n",
       "          4.33410744e-01,  4.39532754e-01,  4.45671282e-01,  4.51826650e-01,\n",
       "          4.57999185e-01,  4.64189219e-01,  4.70397091e-01,  4.76623144e-01,\n",
       "          4.82867728e-01,  4.89131199e-01,  4.95413918e-01,  5.01716253e-01,\n",
       "          5.08038580e-01,  5.14381279e-01,  5.20744740e-01,  5.27129359e-01,\n",
       "          5.33535537e-01,  5.39963687e-01,  5.46414227e-01,  5.52887583e-01,\n",
       "          5.59384191e-01,  5.65904495e-01,  5.72448947e-01,  5.79018010e-01,\n",
       "          5.85612155e-01,  5.92231862e-01,  5.98877624e-01,  6.05549943e-01,\n",
       "          6.12249329e-01,  6.18976309e-01,  6.25731415e-01,  6.32515197e-01,\n",
       "          6.39328212e-01,  6.46171034e-01,  6.53044246e-01,  6.59948449e-01,\n",
       "          6.66884254e-01,  6.73852290e-01,  6.80853199e-01,  6.87887638e-01,\n",
       "          6.94956282e-01,  7.02059822e-01,  7.09198967e-01,  7.16374441e-01,\n",
       "          7.23586992e-01,  7.30837382e-01,  7.38126396e-01,  7.45454839e-01,\n",
       "          7.52823538e-01,  7.60233343e-01,  7.67685125e-01,  7.75179783e-01,\n",
       "          7.82718237e-01,  7.90301437e-01,  7.97930357e-01,  8.05606003e-01,\n",
       "          8.13329408e-01,  8.21101636e-01,  8.28923784e-01,  8.36796983e-01,\n",
       "          8.44722398e-01,  8.52701230e-01,  8.60734720e-01,  8.68824146e-01,\n",
       "          8.76970832e-01,  8.85176140e-01,  8.93441482e-01,  9.01768316e-01,\n",
       "          9.10158149e-01,  9.18612543e-01,  9.27133111e-01,  9.35721526e-01,\n",
       "          9.44379523e-01,  9.53108896e-01,  9.61911509e-01,  9.70789295e-01,\n",
       "          9.79744261e-01,  9.88778492e-01,  9.97894153e-01,  1.00709350e+00,\n",
       "          1.01637887e+00,  1.02575271e+00,  1.03521756e+00,  1.04477607e+00,\n",
       "          1.05443101e+00,  1.06418524e+00,  1.07404180e+00,  1.08400382e+00,\n",
       "          1.09407460e+00,  1.10425758e+00,  1.11455636e+00,  1.12497475e+00,\n",
       "          1.13551669e+00,  1.14618636e+00,  1.15698813e+00,  1.16792662e+00,\n",
       "          1.17900666e+00,  1.19023337e+00,  1.20161213e+00,  1.21314864e+00,\n",
       "          1.22484891e+00,  1.23671930e+00,  1.24876656e+00,  1.26099784e+00,\n",
       "          1.27342073e+00,  1.28604332e+00,  1.29887422e+00,  1.31192258e+00,\n",
       "          1.32519822e+00,  1.33871162e+00,  1.35247400e+00,  1.36649743e+00,\n",
       "          1.38079486e+00,  1.39538025e+00,  1.41026869e+00,  1.42547647e+00,\n",
       "          1.44102127e+00,  1.45692229e+00,  1.47320046e+00,  1.48987864e+00,\n",
       "          1.50698187e+00,  1.52453763e+00,  1.54257627e+00,  1.56113128e+00,\n",
       "          1.58023991e+00,  1.59994361e+00,  1.62028881e+00,  1.64132770e+00,\n",
       "          1.66311926e+00,  1.68573048e+00,  1.70923795e+00,  1.73372979e+00,\n",
       "          1.75930807e+00,  1.78609206e+00,  1.81422228e+00,  1.84386602e+00,\n",
       "          1.87522463e+00,  1.90854367e+00,  1.94412697e+00,  1.98235699e+00,\n",
       "          2.02372498e+00,  2.06887717e+00,  2.11868884e+00,  2.17438905e+00,\n",
       "          2.23778488e+00,  2.31169958e+00,  2.40093139e+00,  2.51472401e+00,\n",
       "          2.67505418e+00,  2.95981055e+00]),\n",
       "  array([ 215359.21,  219804.85,  240044.57,  241937.11,  255996.47,\n",
       "          263917.85,  272834.88,  276198.74,  281842.28,  282552.58,\n",
       "          283455.13,  286428.78,  286857.13,  287425.22,  293728.57,\n",
       "          294882.83,  295811.25,  298180.18,  303908.81,  306533.08,\n",
       "          307486.73,  307646.5 ,  309129.01,  311590.54,  311825.7 ,\n",
       "          321110.22,  325377.97,  332811.55,  335741.9 ,  336227.69,\n",
       "          338737.33,  342214.9 ,  342667.35,  349239.88,  349624.88,\n",
       "          350648.91,  352260.97,  352960.64,  359310.65,  360857.98,\n",
       "          370897.82,  376777.45,  377347.49,  377672.46,  382677.76,\n",
       "          393715.71,  397631.02,  397771.68,  401501.2 ,  408229.73,\n",
       "          408891.49,  410553.88,  420728.96,  428953.6 ,  430526.21,\n",
       "          433565.77,  434471.38,  451327.61,  451365.99,  452163.93,\n",
       "          454412.28,  455162.92,  459770.85,  460331.7 ,  462732.36,\n",
       "          465992.02,  466806.89,  469563.7 ,  469787.38,  470921.24,\n",
       "          472044.28,  473292.47,  473766.97,  484835.2 ,  488362.61,\n",
       "          490274.82,  491290.37,  497374.57,  505405.85,  505406.72,\n",
       "          506273.74,  507900.07,  510296.07,  518220.72,  522296.71,\n",
       "          522514.32,  522554.04,  524104.92,  526838.14,  527041.46,\n",
       "          528784.86,  529672.95,  529852.7 ,  534740.3 ,  535769.32,\n",
       "          537138.58,  537518.57,  540811.85,  543754.17,  545840.05,\n",
       "          549788.36,  550387.78,  551743.05,  552677.48,  555279.02,\n",
       "          556925.19,  559903.13,  563460.77,  565567.84,  565812.29,\n",
       "          574622.56,  575317.38,  575709.96,  576332.05,  577698.37,\n",
       "          582864.35,  583364.02,  587259.82,  589091.04,  597876.55,\n",
       "          603460.79,  607593.51,  608390.94,  609736.12,  613135.23,\n",
       "          615666.78,  617405.35,  623092.54,  628063.88,  628218.22,\n",
       "          633520.34,  635650.98,  635862.55,  641965.2 ,  642827.29,\n",
       "          649128.23,  651837.77,  653989.65,  655811.95,  656988.64,\n",
       "          658984.38,  662198.65,  663814.18,  665861.06,  669965.22,\n",
       "          671482.9 ,  672903.23,  673248.48,  674055.81,  674919.45,\n",
       "          679156.2 ,  682447.1 ,  682918.99,  683665.37,  712422.4 ,\n",
       "          721460.22,  722120.04,  729572.08,  746129.56,  766456.  ,\n",
       "          766512.66,  768070.53,  770652.79,  771908.51,  773586.49,\n",
       "          774262.28,  777207.3 ,  803657.12,  804362.36,  809321.44,\n",
       "          811318.3 ,  813211.46,  814753.5 ,  815915.52,  831425.2 ,\n",
       "          835189.26,  841951.91,  848358.09,  849779.14,  858572.22,\n",
       "          859258.17,  869403.63,  877268.29,  880165.7 ,  887907.01,\n",
       "          891736.91,  902109.69,  903119.03,  904650.55,  908853.15,\n",
       "          913165.19,  922440.64,  922850.57,  924174.4 ,  930506.14,\n",
       "          931939.52,  932160.37,  932240.96,  949075.87,  951549.61,\n",
       "          955146.04,  955338.29,  955463.84,  961685.98,  965512.36,\n",
       "          967310.82,  972834.42,  975268.91,  976415.56,  982661.14,\n",
       "          984833.35,  994610.99,  994801.4 ,  996147.39,  996628.8 ,\n",
       "          999785.48, 1001790.16, 1004434.54, 1005448.76, 1009206.33,\n",
       "         1010562.49, 1010711.08, 1011201.12, 1015654.6 , 1015684.09,\n",
       "         1021391.99, 1021400.42, 1022571.25, 1028635.39, 1034448.07,\n",
       "         1042226.3 , 1047658.09, 1066478.1 , 1069710.97, 1075656.34,\n",
       "         1081005.64, 1081874.03, 1083521.24, 1086421.57, 1088248.4 ,\n",
       "         1090558.57, 1102367.65, 1111638.07, 1115240.61, 1116211.39,\n",
       "         1117863.33, 1120018.92, 1122053.58, 1123566.12, 1124357.2 ,\n",
       "         1126685.95, 1128237.3 , 1129422.86, 1150003.36, 1161615.51,\n",
       "         1161900.18, 1166142.85, 1168815.31, 1169773.85, 1170672.94,\n",
       "         1172003.1 , 1172672.27, 1182500.16, 1187880.7 , 1198071.6 ,\n",
       "         1199330.85, 1200888.28, 1208600.05, 1213486.95, 1219263.4 ,\n",
       "         1225700.28, 1227893.89, 1230011.95, 1230012.16, 1231428.46,\n",
       "         1235163.86, 1238844.56, 1245628.61, 1246062.17, 1249439.95,\n",
       "         1249786.4 , 1255633.29, 1261693.16, 1264014.16, 1266229.07,\n",
       "         1270036.53, 1272842.85, 1275146.94, 1279666.47, 1280958.97,\n",
       "         1282320.05, 1286833.62, 1304584.4 , 1308179.02, 1309476.68,\n",
       "         1310087.  , 1341240.62, 1345595.82, 1352084.21, 1355405.95,\n",
       "         1358111.62, 1358444.07, 1363973.16, 1367320.01, 1376670.27,\n",
       "         1380892.08, 1392143.82, 1397301.38, 1403460.87, 1405168.06,\n",
       "         1414107.1 , 1419236.9 , 1423289.9 , 1424225.44, 1427162.26,\n",
       "         1429345.86, 1430851.11, 1440963.  , 1442988.44, 1464050.02,\n",
       "         1469693.99, 1474498.59, 1477134.75, 1483574.38, 1486920.17,\n",
       "         1497073.82, 1497462.72, 1499496.67, 1507460.69, 1527455.19,\n",
       "         1527688.58, 1535857.49, 1536549.95, 1537139.56, 1539230.32,\n",
       "         1540471.24, 1543947.23, 1558968.49, 1564502.26, 1566712.79,\n",
       "         1572966.15, 1574287.76, 1574684.08, 1591453.39, 1591920.42,\n",
       "         1598080.52, 1601377.41, 1606283.86, 1608077.01, 1609811.75,\n",
       "         1620603.92, 1623716.46, 1624170.99, 1634635.86, 1636224.77,\n",
       "         1641957.44, 1649614.93, 1650604.6 , 1651605.35, 1653759.36,\n",
       "         1661767.33, 1670579.82, 1675292.  , 1684468.66, 1704218.84,\n",
       "         1707298.14, 1708283.28, 1720530.23, 1733822.4 , 1745362.72,\n",
       "         1748000.65, 1750434.55, 1757242.51, 1761235.67, 1772143.94,\n",
       "         1779276.51, 1781866.98, 1794868.74, 1799737.79, 1802477.43,\n",
       "         1839128.83, 1840955.23, 1848953.48, 1858856.06, 1865820.81,\n",
       "         1866681.57, 1872921.31, 1874226.52, 1898777.07, 1904512.34,\n",
       "         1906713.35, 1911470.84, 1913494.81, 1914148.89, 1929738.27,\n",
       "         1930690.37, 1934099.65, 1937033.5 , 1944438.9 , 1955624.11,\n",
       "         1969056.91, 1974646.78, 1980405.03, 1993367.83, 2007105.86,\n",
       "         2014954.79, 2030933.46, 2033320.66, 2043245.  , 2050542.56,\n",
       "         2057059.53, 2069284.57, 2072685.05, 2077256.24, 2080529.06,\n",
       "         2093139.01, 2103322.68, 2109107.9 , 2115408.31, 2125104.72,\n",
       "         2137809.5 , 2149355.2 , 2165796.31, 2168041.61, 2176028.52,\n",
       "         2187847.29, 2188307.39, 2191767.76, 2202742.9 , 2211388.14,\n",
       "         2218595.8 , 2249811.55, 2267452.4 , 2338832.4 , 2374660.64,\n",
       "         2462978.28, 2504400.71, 2614202.3 , 2627910.75, 2658725.29,\n",
       "         2685351.81, 2766400.05, 2789469.45, 2811634.04, 2864170.61,\n",
       "         2906233.25, 2921709.71, 2939946.38, 2950198.64, 3004702.33])),\n",
       " (613535.957938903, 1122887.8923555557, 0.9730972196795566))"
      ]
     },
     "execution_count": 14,
     "metadata": {},
     "output_type": "execute_result"
    },
    {
     "data": {
      "image/png": "[encoded data removed]",
      "text/plain": [
       "<Figure size 640x480 with 1 Axes>"
      ]
     },
     "metadata": {},
     "output_type": "display_data"
    }
   ],
   "source": [
    "#Assumption 2:\n",
    "# q-q plot, It is easier to get a sense of normality with this plot because the data should be on the red line. \n",
    "#If there are data points that are far off of it, it’s an indication that there are some deviations from normality.\n",
    "\n",
    "stats.probplot(isholiday, dist = \"norm\", plot = plt)"
   ]
  },
  {
   "cell_type": "code",
   "execution_count": 15,
   "id": "8fa310a9",
   "metadata": {
    "execution": {
     "iopub.execute_input": "2023-05-18T18:48:58.935506Z",
     "iopub.status.busy": "2023-05-18T18:48:58.935109Z",
     "iopub.status.idle": "2023-05-18T18:48:59.220352Z",
     "shell.execute_reply": "2023-05-18T18:48:59.219362Z"
    },
    "papermill": {
     "duration": 0.297376,
     "end_time": "2023-05-18T18:48:59.222529",
     "exception": false,
     "start_time": "2023-05-18T18:48:58.925153",
     "status": "completed"
    },
    "tags": []
   },
   "outputs": [
    {
     "data": {
      "text/plain": [
       "((array([-3.68177617, -3.44922183, -3.32118749, ...,  3.32118749,\n",
       "          3.44922183,  3.68177617]),\n",
       "  array([ 209986.25,  213538.32,  220060.35, ..., 3749057.69, 3766687.43,\n",
       "         3818686.45])),\n",
       " (544195.1567801365, 1041256.3802088554, 0.973118085316601))"
      ]
     },
     "execution_count": 15,
     "metadata": {},
     "output_type": "execute_result"
    },
    {
     "data": {
      "image/png": "[encoded data removed]",
      "text/plain": [
       "<Figure size 640x480 with 1 Axes>"
      ]
     },
     "metadata": {},
     "output_type": "display_data"
    }
   ],
   "source": [
    "stats.probplot(notholiday, dist = \"norm\", plot = plt)"
   ]
  },
  {
   "cell_type": "markdown",
   "id": "a660273c",
   "metadata": {
    "papermill": {
     "duration": 0.008434,
     "end_time": "2023-05-18T18:48:59.239853",
     "exception": false,
     "start_time": "2023-05-18T18:48:59.231419",
     "status": "completed"
    },
    "tags": []
   },
   "source": [
    "Both the graphs follows a normal distribution but to be sure, we can test it statistically using the Shapiro-Wilk test for normality which is the stats.shaprio() method."
   ]
  },
  {
   "cell_type": "code",
   "execution_count": 16,
   "id": "91401a4e",
   "metadata": {
    "execution": {
     "iopub.execute_input": "2023-05-18T18:48:59.258899Z",
     "iopub.status.busy": "2023-05-18T18:48:59.258481Z",
     "iopub.status.idle": "2023-05-18T18:48:59.264676Z",
     "shell.execute_reply": "2023-05-18T18:48:59.264005Z"
    },
    "papermill": {
     "duration": 0.017851,
     "end_time": "2023-05-18T18:48:59.266483",
     "exception": false,
     "start_time": "2023-05-18T18:48:59.248632",
     "status": "completed"
    },
    "tags": []
   },
   "outputs": [
    {
     "data": {
      "text/plain": [
       "Ttest_indResult(statistic=2.9608919093259036, pvalue=0.003078699263818616)"
      ]
     },
     "execution_count": 16,
     "metadata": {},
     "output_type": "execute_result"
    }
   ],
   "source": [
    "#t test\n",
    "stats.ttest_ind(isholiday, notholiday)"
   ]
  },
  {
   "cell_type": "markdown",
   "id": "40d53cf6",
   "metadata": {
    "papermill": {
     "duration": 0.00873,
     "end_time": "2023-05-18T18:48:59.284316",
     "exception": false,
     "start_time": "2023-05-18T18:48:59.275586",
     "status": "completed"
    },
    "tags": []
   },
   "source": [
    "p <0.05, that the difference between the means in holiday and non-holiday weekly sales is statistically significant."
   ]
  },
  {
   "cell_type": "code",
   "execution_count": null,
   "id": "e41dd154",
   "metadata": {
    "papermill": {
     "duration": 0.008584,
     "end_time": "2023-05-18T18:48:59.302059",
     "exception": false,
     "start_time": "2023-05-18T18:48:59.293475",
     "status": "completed"
    },
    "tags": []
   },
   "outputs": [],
   "source": []
  }
 ],
 "metadata": {
  "kernelspec": {
   "display_name": "Python 3",
   "language": "python",
   "name": "python3"
  },
  "language_info": {
   "codemirror_mode": {
    "name": "ipython",
    "version": 3
   },
   "file_extension": ".py",
   "mimetype": "text/x-python",
   "name": "python",
   "nbconvert_exporter": "python",
   "pygments_lexer": "ipython3",
   "version": "3.10.10"
  },
  "papermill": {
   "default_parameters": {},
   "duration": 14.773557,
   "end_time": "2023-05-18T18:49:00.132642",
   "environment_variables": {},
   "exception": null,
   "input_path": "__notebook__.ipynb",
   "output_path": "__notebook__.ipynb",
   "parameters": {},
   "start_time": "2023-05-18T18:48:45.359085",
   "version": "2.4.0"
  }
 },
 "nbformat": 4,
 "nbformat_minor": 5
}
